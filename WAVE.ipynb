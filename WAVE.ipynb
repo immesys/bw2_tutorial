{
 "cells": [
  {
   "cell_type": "markdown",
   "metadata": {},
   "source": [
    "Hello world. This is a tutorial that teaches you how to use pyspark:"
   ]
  },
  {
   "cell_type": "code",
   "execution_count": 1,
   "metadata": {
    "collapsed": true
   },
   "outputs": [],
   "source": [
    "import pyspark"
   ]
  },
  {
   "cell_type": "markdown",
   "metadata": {},
   "source": [
    "OK, now here's a crash course on information theory:\n",
    "$$\n",
    "D_{\\mathrm{KL}}(P\\|Q) = \\int_X \\log\\frac{{\\rm d}P}{{\\rm d}Q} \\, {\\rm d}P, \\!\n",
    "$$"
   ]
  },
  {
   "cell_type": "code",
   "execution_count": 1,
   "metadata": {},
   "outputs": [
    {
     "name": "stdout",
     "output_type": "stream",
     "text": [
      "\u001b[0m\u001b[37m ╔╡127.0.0.1:28589\u001b[1;32m 2.7.6 'Klystron'\n",
      "\u001b[0m\u001b[37m ╚╡peers=\u001b[1;34m5\u001b[0m\u001b[37m block=\u001b[1;34m3086520\u001b[0m\u001b[37m age=\u001b[1;34m40s\u001b[0m\n",
      "BW2 Local Router status:\n",
      "    Peer count: 5\n",
      " Current block: 3086520\n",
      "    Seen block: 3086520\n",
      "   Current age: 40s\n",
      "    Difficulty: 282541037\n"
     ]
    }
   ],
   "source": [
    " !bw2 status"
   ]
  },
  {
   "cell_type": "code",
   "execution_count": null,
   "metadata": {
    "collapsed": true
   },
   "outputs": [],
   "source": []
  }
 ],
 "metadata": {
  "kernelspec": {
   "display_name": "Python 3",
   "language": "python",
   "name": "python3"
  },
  "language_info": {
   "codemirror_mode": {
    "name": "ipython",
    "version": 3
   },
   "file_extension": ".py",
   "mimetype": "text/x-python",
   "name": "python",
   "nbconvert_exporter": "python",
   "pygments_lexer": "ipython3",
   "version": "3.6.2"
  }
 },
 "nbformat": 4,
 "nbformat_minor": 2
}
